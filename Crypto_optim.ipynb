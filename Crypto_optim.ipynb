{
 "cells": [
  {
   "cell_type": "code",
   "execution_count": 7,
   "metadata": {},
   "outputs": [],
   "source": [
    "import numpy as np\n",
    "import pandas as pd\n",
    "import matplotlib.pyplot as plt\n",
    "import seaborn as sns \n",
    "import os\n",
    "import sklearn\n",
    "from sklearn.model_selection import train_test_split\n",
    "from sklearn.preprocessing import StandardScaler, MinMaxScaler\n",
    "from sklearn.metrics import confusion_matrix\n",
    "from sklearn.metrics import classification_report\n",
    "from sklearn.metrics import accuracy_score\n",
    "from sklearn.preprocessing import OrdinalEncoder\n",
    "import tensorflow as tf\n",
    "import keras\n",
    "from keras.layers import Dense\n",
    "from keras.models import Sequential\n",
    "from keras.utils import to_categorical\n",
    "from keras.optimizers import Adam\n",
    "from keras.callbacks import EarlyStopping\n",
    "import itertools\n",
    "from keras.layers import LSTM\n",
    "from keras import layers"
   ]
  },
  {
   "cell_type": "code",
   "execution_count": 3,
   "metadata": {},
   "outputs": [
    {
     "data": {
      "text/html": [
       "<div>\n",
       "<style scoped>\n",
       "    .dataframe tbody tr th:only-of-type {\n",
       "        vertical-align: middle;\n",
       "    }\n",
       "\n",
       "    .dataframe tbody tr th {\n",
       "        vertical-align: top;\n",
       "    }\n",
       "\n",
       "    .dataframe thead th {\n",
       "        text-align: right;\n",
       "    }\n",
       "</style>\n",
       "<table border=\"1\" class=\"dataframe\">\n",
       "  <thead>\n",
       "    <tr style=\"text-align: right;\">\n",
       "      <th></th>\n",
       "      <th>close</th>\n",
       "    </tr>\n",
       "  </thead>\n",
       "  <tbody>\n",
       "    <tr>\n",
       "      <th>0</th>\n",
       "      <td>46308.00</td>\n",
       "    </tr>\n",
       "    <tr>\n",
       "      <th>1</th>\n",
       "      <td>46372.24</td>\n",
       "    </tr>\n",
       "    <tr>\n",
       "      <th>2</th>\n",
       "      <td>46332.09</td>\n",
       "    </tr>\n",
       "    <tr>\n",
       "      <th>3</th>\n",
       "      <td>46333.53</td>\n",
       "    </tr>\n",
       "    <tr>\n",
       "      <th>4</th>\n",
       "      <td>46436.05</td>\n",
       "    </tr>\n",
       "  </tbody>\n",
       "</table>\n",
       "</div>"
      ],
      "text/plain": [
       "      close\n",
       "0  46308.00\n",
       "1  46372.24\n",
       "2  46332.09\n",
       "3  46333.53\n",
       "4  46436.05"
      ]
     },
     "execution_count": 3,
     "metadata": {},
     "output_type": "execute_result"
    }
   ],
   "source": [
    "BTC_01 = pd.read_csv('BTCUSDC/BTCUSDC-1m-2022-01.csv')\n",
    "BTC_02 = pd.read_csv('BTCUSDC/BTCUSDC-1m-2022-02.csv')\n",
    "BTC_03 = pd.read_csv('BTCUSDC/BTCUSDC-1m-2022-03.csv')\n",
    "BTC_04 = pd.read_csv('BTCUSDC/BTCUSDC-1m-2022-04.csv')\n",
    "BTC_05 = pd.read_csv('BTCUSDC/BTCUSDC-1m-2022-05.csv')\n",
    "BTC_06 = pd.read_csv('BTCUSDC/BTCUSDC-1m-2022-06.csv')\n",
    "BTC_07 = pd.read_csv('BTCUSDC/BTCUSDC-1m-2022-07.csv')\n",
    "BTC_08 = pd.read_csv('BTCUSDC/BTCUSDC-1m-2022-08.csv')\n",
    "BTC_09 = pd.read_csv('BTCUSDC/BTCUSDC-1m-2022-09.csv')\n",
    "\n",
    "columns = ['open_time', 'open'\t, 'high','low',\t'close','volume',\t'close_time','quote_volume',\n",
    "'count'\t,'taker_buy_volume','taker_buy_quote_volume',\t'ignore']\n",
    "\n",
    "for df in [BTC_01, BTC_02, BTC_03, BTC_04, BTC_05, BTC_06, BTC_07, BTC_08, BTC_09]:\n",
    "  df.columns = columns\n",
    "\n",
    "BTC = pd.concat([BTC_01, BTC_02, BTC_03, BTC_04, BTC_05, BTC_06, BTC_07, BTC_08, BTC_09])\n",
    "\n",
    "btc_data = BTC[['close']]\n",
    "btc_data.head()"
   ]
  },
  {
   "cell_type": "code",
   "execution_count": 6,
   "metadata": {},
   "outputs": [],
   "source": [
    "scaler = MinMaxScaler()\n",
    "scaled_data = scaler.fit_transform(btc_data)\n",
    "\n",
    "def create_sequences(data, sequence_length):\n",
    "    xs, ys = [], []\n",
    "    for i in range(len(data) - sequence_length):\n",
    "        x = data[i:i+sequence_length]\n",
    "        y = data[i+sequence_length]\n",
    "        xs.append(x)\n",
    "        ys.append(y)\n",
    "    return np.array(xs), np.array(ys)\n",
    "\n",
    "sequence_length = 90\n",
    "\n",
    "train_size = int(len(scaled_data) * 0.8)\n",
    "train_data = scaled_data[:train_size]\n",
    "test_data = scaled_data[train_size - sequence_length:]\n",
    "\n",
    "x_train, y_train = create_sequences(train_data, sequence_length)\n",
    "x_test, y_test = create_sequences(test_data, sequence_length)"
   ]
  },
  {
   "cell_type": "code",
   "execution_count": 9,
   "metadata": {},
   "outputs": [
    {
     "name": "stderr",
     "output_type": "stream",
     "text": [
      "WARNING:absl:At this time, the v2.11+ optimizer `tf.keras.optimizers.Adam` runs slowly on M1/M2 Macs, please use the legacy Keras optimizer instead, located at `tf.keras.optimizers.legacy.Adam`.\n",
      "WARNING:absl:There is a known slowdown when using v2.11+ Keras optimizers on M1/M2 Macs. Falling back to the legacy Keras optimizer, i.e., `tf.keras.optimizers.legacy.Adam`.\n"
     ]
    },
    {
     "name": "stdout",
     "output_type": "stream",
     "text": [
      "Epoch 1/20\n",
      "7806/7806 [==============================] - 302s 39ms/step - loss: 2.6341e-04 - val_loss: 3.7762e-06\n",
      "Epoch 2/20\n",
      "7806/7806 [==============================] - 293s 38ms/step - loss: 9.6599e-06 - val_loss: 1.9088e-06\n",
      "Epoch 3/20\n",
      "7806/7806 [==============================] - 293s 38ms/step - loss: 5.2645e-06 - val_loss: 1.2965e-06\n",
      "Epoch 4/20\n",
      "7806/7806 [==============================] - 291s 37ms/step - loss: 4.0926e-06 - val_loss: 2.3265e-06\n",
      "Epoch 5/20\n",
      "7806/7806 [==============================] - 293s 38ms/step - loss: 3.7897e-06 - val_loss: 6.8223e-07\n",
      "Epoch 6/20\n",
      "7806/7806 [==============================] - 295s 38ms/step - loss: 3.4400e-06 - val_loss: 4.8296e-07\n",
      "Epoch 7/20\n",
      "7806/7806 [==============================] - 295s 38ms/step - loss: 3.1567e-06 - val_loss: 3.4502e-06\n",
      "Epoch 8/20\n",
      "7806/7806 [==============================] - 295s 38ms/step - loss: 2.9287e-06 - val_loss: 1.9972e-06\n",
      "Epoch 9/20\n",
      "7806/7806 [==============================] - 302s 39ms/step - loss: 2.8300e-06 - val_loss: 8.5493e-07\n",
      "Epoch 10/20\n",
      "7806/7806 [==============================] - 311s 40ms/step - loss: 2.7334e-06 - val_loss: 9.3392e-07\n",
      "Epoch 11/20\n",
      "7806/7806 [==============================] - 316s 41ms/step - loss: 2.6222e-06 - val_loss: 6.0489e-07\n",
      "Epoch 12/20\n",
      "7806/7806 [==============================] - 307s 39ms/step - loss: 2.5268e-06 - val_loss: 4.6477e-07\n",
      "Epoch 13/20\n",
      "7806/7806 [==============================] - 307s 39ms/step - loss: 2.5359e-06 - val_loss: 4.6242e-07\n",
      "Epoch 14/20\n",
      "7806/7806 [==============================] - 319s 41ms/step - loss: 2.4368e-06 - val_loss: 4.8711e-07\n",
      "Epoch 15/20\n",
      "7806/7806 [==============================] - 306s 39ms/step - loss: 2.4071e-06 - val_loss: 6.5702e-07\n",
      "Epoch 16/20\n",
      "7806/7806 [==============================] - 298s 38ms/step - loss: 2.3658e-06 - val_loss: 1.8632e-06\n",
      "Epoch 17/20\n",
      "7806/7806 [==============================] - 298s 38ms/step - loss: 2.2821e-06 - val_loss: 4.5414e-07\n",
      "Epoch 18/20\n",
      "7806/7806 [==============================] - 299s 38ms/step - loss: 2.3015e-06 - val_loss: 9.1175e-07\n",
      "Epoch 19/20\n",
      "7806/7806 [==============================] - 303s 39ms/step - loss: 2.2650e-06 - val_loss: 6.2380e-07\n",
      "Epoch 20/20\n",
      "7806/7806 [==============================] - 303s 39ms/step - loss: 2.2876e-06 - val_loss: 6.7129e-07\n"
     ]
    }
   ],
   "source": [
    "model = Sequential()\n",
    "model.add(LSTM(64, return_sequences=True, input_shape=(sequence_length, 1)))\n",
    "model.add(LSTM(64))\n",
    "model.add(Dense(1))\n",
    "\n",
    "model.compile(optimizer=Adam(learning_rate=0.001), loss='mean_squared_error')\n",
    "\n",
    "model.fit(x_train, y_train, epochs=20, batch_size=32, validation_split=0.2)\n",
    "\n",
    "model.save_weights('./weights/lstm_weights.h5')"
   ]
  },
  {
   "cell_type": "code",
   "execution_count": 10,
   "metadata": {},
   "outputs": [],
   "source": [
    "def predict_future(model, input_data, future_steps):\n",
    "    predictions = []\n",
    "    current_input = input_data[-sequence_length:]\n",
    "    \n",
    "    for _ in range(future_steps):\n",
    "        current_input = current_input.reshape((1, sequence_length, 1))\n",
    "        prediction = model.predict(current_input)\n",
    "        predictions.append(prediction[0, 0])\n",
    "        current_input = np.append(current_input[0][1:], prediction[0, 0])\n",
    "        \n",
    "    return scaler.inverse_transform(np.array(predictions).reshape(-1, 1))"
   ]
  },
  {
   "cell_type": "code",
   "execution_count": 11,
   "metadata": {},
   "outputs": [
    {
     "name": "stdout",
     "output_type": "stream",
     "text": [
      "1/1 [==============================] - 0s 401ms/step\n",
      "1/1 [==============================] - 0s 12ms/step\n",
      "1/1 [==============================] - 0s 13ms/step\n",
      "1/1 [==============================] - 0s 12ms/step\n",
      "1/1 [==============================] - 0s 12ms/step\n",
      "1/1 [==============================] - 0s 12ms/step\n",
      "1/1 [==============================] - 0s 13ms/step\n",
      "1/1 [==============================] - 0s 12ms/step\n",
      "1/1 [==============================] - 0s 12ms/step\n",
      "1/1 [==============================] - 0s 13ms/step\n",
      "1/1 [==============================] - 0s 13ms/step\n",
      "1/1 [==============================] - 0s 12ms/step\n",
      "1/1 [==============================] - 0s 12ms/step\n",
      "1/1 [==============================] - 0s 13ms/step\n",
      "1/1 [==============================] - 0s 12ms/step\n",
      "[[19460.873]\n",
      " [19480.172]\n",
      " [19498.656]\n",
      " [19516.729]\n",
      " [19534.205]\n",
      " [19550.98 ]\n",
      " [19567.021]\n",
      " [19582.342]\n",
      " [19597.004]\n",
      " [19611.098]\n",
      " [19624.72 ]\n",
      " [19637.97 ]\n",
      " [19650.945]\n",
      " [19663.723]\n",
      " [19676.365]]\n"
     ]
    }
   ],
   "source": [
    "input_data = scaled_data[-sequence_length:]\n",
    "predicted_prices = predict_future(model, input_data, future_steps=15)\n",
    "\n",
    "print(predicted_prices)"
   ]
  },
  {
   "cell_type": "code",
   "execution_count": null,
   "metadata": {},
   "outputs": [],
   "source": []
  },
  {
   "cell_type": "code",
   "execution_count": null,
   "metadata": {},
   "outputs": [],
   "source": []
  }
 ],
 "metadata": {
  "kernelspec": {
   "display_name": "base",
   "language": "python",
   "name": "python3"
  },
  "language_info": {
   "codemirror_mode": {
    "name": "ipython",
    "version": 3
   },
   "file_extension": ".py",
   "mimetype": "text/x-python",
   "name": "python",
   "nbconvert_exporter": "python",
   "pygments_lexer": "ipython3",
   "version": "3.8.12"
  }
 },
 "nbformat": 4,
 "nbformat_minor": 2
}
