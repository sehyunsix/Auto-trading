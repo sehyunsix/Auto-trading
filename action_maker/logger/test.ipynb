{
 "cells": [
  {
   "cell_type": "code",
   "execution_count": 13,
   "metadata": {},
   "outputs": [],
   "source": [
    "import logging\n",
    "\n",
    "logging.basicConfig( filename=\"example.log\", format='%(asctime)s %(levelname)s:%(message)s',\n",
    "    level=logging.DEBUG,\n",
    "    datefmt='%m/%d/%Y %I:%M:%S %p',)"
   ]
  },
  {
   "cell_type": "code",
   "execution_count": 15,
   "metadata": {},
   "outputs": [
    {
     "name": "stderr",
     "output_type": "stream",
     "text": [
      "07/31/2024 11:02:10 AM DEBUG:Sample debug message\n"
     ]
    }
   ],
   "source": [
    "logging.debug(\"Sample debug message\")\n"
   ]
  }
 ],
 "metadata": {
  "kernelspec": {
   "display_name": "Auto-trading",
   "language": "python",
   "name": "python3"
  },
  "language_info": {
   "codemirror_mode": {
    "name": "ipython",
    "version": 3
   },
   "file_extension": ".py",
   "mimetype": "text/x-python",
   "name": "python",
   "nbconvert_exporter": "python",
   "pygments_lexer": "ipython3",
   "version": "3.10.14"
  }
 },
 "nbformat": 4,
 "nbformat_minor": 2
}
